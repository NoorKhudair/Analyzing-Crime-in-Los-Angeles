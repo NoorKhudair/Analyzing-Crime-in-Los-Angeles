{
 "cells": [
  {
   "cell_type": "code",
   "execution_count": 2,
   "id": "7c6c3c36-5c8b-4cce-8681-95292b8f0861",
   "metadata": {
    "executionCancelledAt": null,
    "executionTime": 335,
    "lastExecutedAt": 1733927084610,
    "lastExecutedByKernel": "b4881b10-0f68-48d8-908a-7e22efec45da",
    "lastScheduledRunId": null,
    "lastSuccessfullyExecutedCode": "# Re-run this cell\n# Import required libraries\nimport pandas as pd\nimport numpy as np\nimport matplotlib.pyplot as plt\nimport seaborn as sns\ncrimes = pd.read_csv(\"crimes.csv\", parse_dates=[\"Date Rptd\", \"DATE OCC\"], dtype={\"TIME OCC\": str})\ntype(crimes['TIME OCC'][0])",
    "outputsMetadata": {
     "0": {
      "height": 236,
      "type": "dataFrame"
     }
    }
   },
   "outputs": [
    {
     "data": {
      "text/plain": [
       "str"
      ]
     },
     "execution_count": 2,
     "metadata": {},
     "output_type": "execute_result"
    }
   ],
   "source": [
    "import pandas as pd\n",
    "import numpy as np\n",
    "import matplotlib.pyplot as plt\n",
    "import seaborn as sns\n",
    "crimes = pd.read_csv(\"crimes.csv\", parse_dates=[\"Date Rptd\", \"DATE OCC\"], dtype={\"TIME OCC\": str})\n",
    "type(crimes['TIME OCC'][0])"
   ]
  },
  {
   "cell_type": "markdown",
   "id": "f7b44772-77f7-4212-8be1-461d570b5ce9",
   "metadata": {},
   "source": [
    "## Which hour has the highest frequency of crimes?"
   ]
  },
  {
   "cell_type": "code",
   "execution_count": 4,
   "id": "53eada96-447c-46c3-9848-f4ca3de53d06",
   "metadata": {
    "executionCancelledAt": null,
    "executionTime": 718,
    "lastExecutedAt": 1733927090222,
    "lastExecutedByKernel": "b4881b10-0f68-48d8-908a-7e22efec45da",
    "lastScheduledRunId": null,
    "lastSuccessfullyExecutedCode": "# Start coding here\n# Use as many cells as you need\ncrimes['Hour Occ']=crimes['TIME OCC'].apply(lambda x:x[:2])\n\npeak_crime_hour=int(crimes['Hour Occ'].value_counts().index[0])\nsns.countplot(data=crimes, x=\"Hour Occ\")\nplt.show()",
    "outputsMetadata": {
     "0": {
      "height": 38,
      "type": "stream"
     }
    }
   },
   "outputs": [
    {
     "data": {
      "image/png": "[encoded data removed]",
      "text/plain": [
       "<Figure size 640x480 with 1 Axes>"
      ]
     },
     "metadata": {},
     "output_type": "display_data"
    }
   ],
   "source": [
    "crimes['Hour Occ']=crimes['TIME OCC'].apply(lambda x:x[:2])\n",
    "\n",
    "peak_crime_hour=int(crimes['Hour Occ'].value_counts().index[0])\n",
    "sns.countplot(data=crimes, x=\"Hour Occ\")\n",
    "plt.show()"
   ]
  },
  {
   "cell_type": "markdown",
   "id": "9f364017-3699-4f6d-967e-000efb6e919d",
   "metadata": {},
   "source": [
    "## Which area has the largest frequency of night crimes (crimes committed between 10pm and 3:59am)?"
   ]
  },
  {
   "cell_type": "code",
   "execution_count": 6,
   "id": "6fb49fb5-2d11-462e-9cd1-2561c8d7d84a",
   "metadata": {
    "executionCancelledAt": null,
    "executionTime": 49,
    "lastExecutedAt": 1733927466475,
    "lastExecutedByKernel": "b4881b10-0f68-48d8-908a-7e22efec45da",
    "lastScheduledRunId": null,
    "lastSuccessfullyExecutedCode": "crimes['TIME OCC']=crimes['TIME OCC'].astype(int)\n\ncrimes['Night Crime']=((crimes['TIME OCC']>2200)&(crimes['TIME OCC']<2359))|((crimes['TIME OCC']>0)&(crimes['TIME OCC']<359))\n#crimes.groupby('AREA NAME')['Night Crime'].sum()\nnight_crime_per_area=crimes.groupby('AREA NAME',as_index=False)['Night Crime'].sum().sort_values('Night Crime')\npeak_night_crime_location=night_crime_per_area.reset_index(drop=True).iloc[-1]['AREA NAME']\nprint(peak_night_crime_location)",
    "outputsMetadata": {
     "0": {
      "height": 38,
      "type": "stream"
     }
    }
   },
   "outputs": [
    {
     "name": "stdout",
     "output_type": "stream",
     "text": [
      "Central\n"
     ]
    }
   ],
   "source": [
    "crimes['TIME OCC']=crimes['TIME OCC'].astype(int)\n",
    "\n",
    "crimes['Night Crime']=((crimes['TIME OCC']>2200)&(crimes['TIME OCC']<2359))|((crimes['TIME OCC']>0)&(crimes['TIME OCC']<359))\n",
    "#crimes.groupby('AREA NAME')['Night Crime'].sum()\n",
    "night_crime_per_area=crimes.groupby('AREA NAME',as_index=False)['Night Crime'].sum().sort_values('Night Crime')\n",
    "peak_night_crime_location=night_crime_per_area.reset_index(drop=True).iloc[-1]['AREA NAME']\n",
    "print(peak_night_crime_location)"
   ]
  },
  {
   "cell_type": "markdown",
   "id": "c574b2b5-6e95-457e-8327-5562838db3b1",
   "metadata": {},
   "source": [
    "## Identify the number of crimes committed against victims of different age groups."
   ]
  },
  {
   "cell_type": "code",
   "execution_count": 13,
   "id": "dcf426ac-b9f7-4be3-b00c-126bd59b3305",
   "metadata": {
    "executionCancelledAt": null,
    "executionTime": 48,
    "lastExecutedAt": 1733926804175,
    "lastExecutedByKernel": "b4881b10-0f68-48d8-908a-7e22efec45da",
    "lastScheduledRunId": null,
    "lastSuccessfullyExecutedCode": "labels=[\"0-17\", \"18-25\", \"26-34\", \"35-44\", \"45-54\", \"55-64\", \"65+\"]\nbins=[0,17,25,34,44,54,64,crimes['Vict Age'].max()]\ncrimes['victim ages']=pd.cut(crimes['Vict Age'],labels=labels,bins=bins)\nvictim_ages=crimes.groupby('victim ages')['victim ages'].count()",
    "outputsMetadata": {
     "0": {
      "height": 248,
      "type": "stream"
     }
    }
   },
   "outputs": [
    {
     "name": "stdout",
     "output_type": "stream",
     "text": [
      "victim ages\n",
      "0-17      4528\n",
      "18-25    28291\n",
      "26-34    47470\n",
      "35-44    42157\n",
      "45-54    28353\n",
      "55-64    20169\n",
      "65+      14747\n",
      "Name: victim ages, dtype: int64\n"
     ]
    },
    {
     "name": "stderr",
     "output_type": "stream",
     "text": [
      "C:\\Users\\noor_\\AppData\\Local\\Temp\\ipykernel_12072\\35382476.py:4: FutureWarning: The default of observed=False is deprecated and will be changed to True in a future version of pandas. Pass observed=False to retain current behavior or observed=True to adopt the future default and silence this warning.\n",
      "  victim_ages=crimes.groupby('victim ages')['victim ages'].count()\n"
     ]
    }
   ],
   "source": [
    "labels=[\"0-17\", \"18-25\", \"26-34\", \"35-44\", \"45-54\", \"55-64\", \"65+\"]\n",
    "bins=[0,17,25,34,44,54,64,crimes['Vict Age'].max()]\n",
    "crimes['victim ages']=pd.cut(crimes['Vict Age'],labels=labels,bins=bins)\n",
    "victim_ages=crimes.groupby('victim ages')['victim ages'].count()\n",
    "print(victim_ages)"
   ]
  },
  {
   "cell_type": "code",
   "execution_count": null,
   "id": "44d2f437-a366-46e9-afaa-6f1b6cc1627e",
   "metadata": {},
   "outputs": [],
   "source": []
  }
 ],
 "metadata": {
  "colab": {
   "name": "Welcome to DataCamp Workspaces.ipynb",
   "provenance": []
  },
  "kernelspec": {
   "display_name": "Python 3 (ipykernel)",
   "language": "python",
   "name": "python3"
  },
  "language_info": {
   "codemirror_mode": {
    "name": "ipython",
    "version": 3
   },
   "file_extension": ".py",
   "mimetype": "text/x-python",
   "name": "python",
   "nbconvert_exporter": "python",
   "pygments_lexer": "ipython3",
   "version": "3.12.7"
  }
 },
 "nbformat": 4,
 "nbformat_minor": 5
}
